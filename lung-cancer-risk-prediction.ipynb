{
 "cells": [
  {
   "cell_type": "markdown",
   "id": "8696ee03",
   "metadata": {
    "papermill": {
     "duration": 0.005361,
     "end_time": "2022-09-09T21:22:44.863222",
     "exception": false,
     "start_time": "2022-09-09T21:22:44.857861",
     "status": "completed"
    },
    "tags": []
   },
   "source": [
    "# **Lung cancer risk prediction**"
   ]
  },
  {
   "cell_type": "code",
   "execution_count": 1,
   "id": "75ce58cf",
   "metadata": {
    "execution": {
     "iopub.execute_input": "2022-09-09T21:22:44.874401Z",
     "iopub.status.busy": "2022-09-09T21:22:44.873594Z",
     "iopub.status.idle": "2022-09-09T21:22:52.063941Z",
     "shell.execute_reply": "2022-09-09T21:22:52.062655Z"
    },
    "papermill": {
     "duration": 7.200343,
     "end_time": "2022-09-09T21:22:52.068059",
     "exception": false,
     "start_time": "2022-09-09T21:22:44.867716",
     "status": "completed"
    },
    "tags": []
   },
   "outputs": [],
   "source": [
    "import numpy as np\n",
    "import pandas as pd\n",
    "import matplotlib.pyplot as plt\n",
    "import seaborn as sns\n",
    "# Pre-processing\n",
    "from sklearn.preprocessing import LabelEncoder\n",
    "from sklearn.preprocessing import StandardScaler\n",
    "from sklearn.model_selection import train_test_split\n",
    "# Models\n",
    "from sklearn.svm import SVC\n",
    "from sklearn.ensemble import RandomForestClassifier\n",
    "from sklearn.metrics import accuracy_score, confusion_matrix, classification_report\n",
    "import tensorflow as tf"
   ]
  },
  {
   "cell_type": "code",
   "execution_count": 2,
   "id": "cdec05aa",
   "metadata": {
    "execution": {
     "iopub.execute_input": "2022-09-09T21:22:52.079943Z",
     "iopub.status.busy": "2022-09-09T21:22:52.078562Z",
     "iopub.status.idle": "2022-09-09T21:22:52.099437Z",
     "shell.execute_reply": "2022-09-09T21:22:52.098229Z"
    },
    "papermill": {
     "duration": 0.029567,
     "end_time": "2022-09-09T21:22:52.102350",
     "exception": false,
     "start_time": "2022-09-09T21:22:52.072783",
     "status": "completed"
    },
    "tags": []
   },
   "outputs": [],
   "source": [
    "# Load dataset\n",
    "data = pd.read_csv(\"../input/lung-cancer/survey lung cancer.csv\")"
   ]
  },
  {
   "cell_type": "code",
   "execution_count": 3,
   "id": "0a6640e4",
   "metadata": {
    "execution": {
     "iopub.execute_input": "2022-09-09T21:22:52.113347Z",
     "iopub.status.busy": "2022-09-09T21:22:52.112271Z",
     "iopub.status.idle": "2022-09-09T21:22:52.141092Z",
     "shell.execute_reply": "2022-09-09T21:22:52.139867Z"
    },
    "papermill": {
     "duration": 0.038182,
     "end_time": "2022-09-09T21:22:52.145011",
     "exception": false,
     "start_time": "2022-09-09T21:22:52.106829",
     "status": "completed"
    },
    "tags": []
   },
   "outputs": [
    {
     "name": "stdout",
     "output_type": "stream",
     "text": [
      "Dataframe (rows, columns) : (309, 16)\n",
      "\n",
      "\n",
      " Check first few lines :\n",
      "\n"
     ]
    },
    {
     "data": {
      "text/html": [
       "<div>\n",
       "<style scoped>\n",
       "    .dataframe tbody tr th:only-of-type {\n",
       "        vertical-align: middle;\n",
       "    }\n",
       "\n",
       "    .dataframe tbody tr th {\n",
       "        vertical-align: top;\n",
       "    }\n",
       "\n",
       "    .dataframe thead th {\n",
       "        text-align: right;\n",
       "    }\n",
       "</style>\n",
       "<table border=\"1\" class=\"dataframe\">\n",
       "  <thead>\n",
       "    <tr style=\"text-align: right;\">\n",
       "      <th></th>\n",
       "      <th>GENDER</th>\n",
       "      <th>AGE</th>\n",
       "      <th>SMOKING</th>\n",
       "      <th>YELLOW_FINGERS</th>\n",
       "      <th>ANXIETY</th>\n",
       "      <th>PEER_PRESSURE</th>\n",
       "      <th>CHRONIC DISEASE</th>\n",
       "      <th>FATIGUE</th>\n",
       "      <th>ALLERGY</th>\n",
       "      <th>WHEEZING</th>\n",
       "      <th>ALCOHOL CONSUMING</th>\n",
       "      <th>COUGHING</th>\n",
       "      <th>SHORTNESS OF BREATH</th>\n",
       "      <th>SWALLOWING DIFFICULTY</th>\n",
       "      <th>CHEST PAIN</th>\n",
       "      <th>LUNG_CANCER</th>\n",
       "    </tr>\n",
       "  </thead>\n",
       "  <tbody>\n",
       "    <tr>\n",
       "      <th>0</th>\n",
       "      <td>M</td>\n",
       "      <td>69</td>\n",
       "      <td>1</td>\n",
       "      <td>2</td>\n",
       "      <td>2</td>\n",
       "      <td>1</td>\n",
       "      <td>1</td>\n",
       "      <td>2</td>\n",
       "      <td>1</td>\n",
       "      <td>2</td>\n",
       "      <td>2</td>\n",
       "      <td>2</td>\n",
       "      <td>2</td>\n",
       "      <td>2</td>\n",
       "      <td>2</td>\n",
       "      <td>YES</td>\n",
       "    </tr>\n",
       "    <tr>\n",
       "      <th>1</th>\n",
       "      <td>M</td>\n",
       "      <td>74</td>\n",
       "      <td>2</td>\n",
       "      <td>1</td>\n",
       "      <td>1</td>\n",
       "      <td>1</td>\n",
       "      <td>2</td>\n",
       "      <td>2</td>\n",
       "      <td>2</td>\n",
       "      <td>1</td>\n",
       "      <td>1</td>\n",
       "      <td>1</td>\n",
       "      <td>2</td>\n",
       "      <td>2</td>\n",
       "      <td>2</td>\n",
       "      <td>YES</td>\n",
       "    </tr>\n",
       "    <tr>\n",
       "      <th>2</th>\n",
       "      <td>F</td>\n",
       "      <td>59</td>\n",
       "      <td>1</td>\n",
       "      <td>1</td>\n",
       "      <td>1</td>\n",
       "      <td>2</td>\n",
       "      <td>1</td>\n",
       "      <td>2</td>\n",
       "      <td>1</td>\n",
       "      <td>2</td>\n",
       "      <td>1</td>\n",
       "      <td>2</td>\n",
       "      <td>2</td>\n",
       "      <td>1</td>\n",
       "      <td>2</td>\n",
       "      <td>NO</td>\n",
       "    </tr>\n",
       "    <tr>\n",
       "      <th>3</th>\n",
       "      <td>M</td>\n",
       "      <td>63</td>\n",
       "      <td>2</td>\n",
       "      <td>2</td>\n",
       "      <td>2</td>\n",
       "      <td>1</td>\n",
       "      <td>1</td>\n",
       "      <td>1</td>\n",
       "      <td>1</td>\n",
       "      <td>1</td>\n",
       "      <td>2</td>\n",
       "      <td>1</td>\n",
       "      <td>1</td>\n",
       "      <td>2</td>\n",
       "      <td>2</td>\n",
       "      <td>NO</td>\n",
       "    </tr>\n",
       "    <tr>\n",
       "      <th>4</th>\n",
       "      <td>F</td>\n",
       "      <td>63</td>\n",
       "      <td>1</td>\n",
       "      <td>2</td>\n",
       "      <td>1</td>\n",
       "      <td>1</td>\n",
       "      <td>1</td>\n",
       "      <td>1</td>\n",
       "      <td>1</td>\n",
       "      <td>2</td>\n",
       "      <td>1</td>\n",
       "      <td>2</td>\n",
       "      <td>2</td>\n",
       "      <td>1</td>\n",
       "      <td>1</td>\n",
       "      <td>NO</td>\n",
       "    </tr>\n",
       "  </tbody>\n",
       "</table>\n",
       "</div>"
      ],
      "text/plain": [
       "  GENDER  AGE  SMOKING  YELLOW_FINGERS  ANXIETY  PEER_PRESSURE  \\\n",
       "0      M   69        1               2        2              1   \n",
       "1      M   74        2               1        1              1   \n",
       "2      F   59        1               1        1              2   \n",
       "3      M   63        2               2        2              1   \n",
       "4      F   63        1               2        1              1   \n",
       "\n",
       "   CHRONIC DISEASE  FATIGUE   ALLERGY   WHEEZING  ALCOHOL CONSUMING  COUGHING  \\\n",
       "0                1         2         1         2                  2         2   \n",
       "1                2         2         2         1                  1         1   \n",
       "2                1         2         1         2                  1         2   \n",
       "3                1         1         1         1                  2         1   \n",
       "4                1         1         1         2                  1         2   \n",
       "\n",
       "   SHORTNESS OF BREATH  SWALLOWING DIFFICULTY  CHEST PAIN LUNG_CANCER  \n",
       "0                    2                      2           2         YES  \n",
       "1                    2                      2           2         YES  \n",
       "2                    2                      1           2          NO  \n",
       "3                    1                      2           2          NO  \n",
       "4                    2                      1           1          NO  "
      ]
     },
     "execution_count": 3,
     "metadata": {},
     "output_type": "execute_result"
    }
   ],
   "source": [
    "# First look at dataset\n",
    "print(f\"Dataframe (rows, columns) : {data.shape}\")\n",
    "print(f\"\\n\\n Check first few lines :\\n\")\n",
    "data.head()"
   ]
  },
  {
   "cell_type": "code",
   "execution_count": 4,
   "id": "c4ba5c87",
   "metadata": {
    "execution": {
     "iopub.execute_input": "2022-09-09T21:22:52.156947Z",
     "iopub.status.busy": "2022-09-09T21:22:52.155874Z",
     "iopub.status.idle": "2022-09-09T21:22:52.186261Z",
     "shell.execute_reply": "2022-09-09T21:22:52.184845Z"
    },
    "papermill": {
     "duration": 0.03918,
     "end_time": "2022-09-09T21:22:52.189011",
     "exception": false,
     "start_time": "2022-09-09T21:22:52.149831",
     "status": "completed"
    },
    "tags": []
   },
   "outputs": [
    {
     "name": "stdout",
     "output_type": "stream",
     "text": [
      "<class 'pandas.core.frame.DataFrame'>\n",
      "RangeIndex: 309 entries, 0 to 308\n",
      "Data columns (total 16 columns):\n",
      " #   Column                 Non-Null Count  Dtype \n",
      "---  ------                 --------------  ----- \n",
      " 0   GENDER                 309 non-null    object\n",
      " 1   AGE                    309 non-null    int64 \n",
      " 2   SMOKING                309 non-null    int64 \n",
      " 3   YELLOW_FINGERS         309 non-null    int64 \n",
      " 4   ANXIETY                309 non-null    int64 \n",
      " 5   PEER_PRESSURE          309 non-null    int64 \n",
      " 6   CHRONIC DISEASE        309 non-null    int64 \n",
      " 7   FATIGUE                309 non-null    int64 \n",
      " 8   ALLERGY                309 non-null    int64 \n",
      " 9   WHEEZING               309 non-null    int64 \n",
      " 10  ALCOHOL CONSUMING      309 non-null    int64 \n",
      " 11  COUGHING               309 non-null    int64 \n",
      " 12  SHORTNESS OF BREATH    309 non-null    int64 \n",
      " 13  SWALLOWING DIFFICULTY  309 non-null    int64 \n",
      " 14  CHEST PAIN             309 non-null    int64 \n",
      " 15  LUNG_CANCER            309 non-null    object\n",
      "dtypes: int64(14), object(2)\n",
      "memory usage: 38.8+ KB\n",
      "None\n"
     ]
    }
   ],
   "source": [
    "# Dataframe column info\n",
    "print(data.info())"
   ]
  },
  {
   "cell_type": "code",
   "execution_count": 5,
   "id": "f20af9ee",
   "metadata": {
    "execution": {
     "iopub.execute_input": "2022-09-09T21:22:52.200854Z",
     "iopub.status.busy": "2022-09-09T21:22:52.200433Z",
     "iopub.status.idle": "2022-09-09T21:22:52.207510Z",
     "shell.execute_reply": "2022-09-09T21:22:52.206370Z"
    },
    "papermill": {
     "duration": 0.0157,
     "end_time": "2022-09-09T21:22:52.209755",
     "exception": false,
     "start_time": "2022-09-09T21:22:52.194055",
     "status": "completed"
    },
    "tags": []
   },
   "outputs": [],
   "source": [
    "# Encode object variables to numeric\n",
    "LabelEncoder = LabelEncoder() \n",
    "# Lung cancer positive = 1, Male = 1\n",
    "data[\"LUNG_CANCER\"] = LabelEncoder.fit_transform(data[\"LUNG_CANCER\"])\n",
    "data[\"GENDER\"] = LabelEncoder.fit_transform(data[\"GENDER\"])"
   ]
  },
  {
   "cell_type": "code",
   "execution_count": 6,
   "id": "6cf59789",
   "metadata": {
    "execution": {
     "iopub.execute_input": "2022-09-09T21:22:52.220899Z",
     "iopub.status.busy": "2022-09-09T21:22:52.220511Z",
     "iopub.status.idle": "2022-09-09T21:22:52.281163Z",
     "shell.execute_reply": "2022-09-09T21:22:52.280045Z"
    },
    "papermill": {
     "duration": 0.069056,
     "end_time": "2022-09-09T21:22:52.283627",
     "exception": false,
     "start_time": "2022-09-09T21:22:52.214571",
     "status": "completed"
    },
    "tags": []
   },
   "outputs": [
    {
     "data": {
      "text/html": [
       "<div>\n",
       "<style scoped>\n",
       "    .dataframe tbody tr th:only-of-type {\n",
       "        vertical-align: middle;\n",
       "    }\n",
       "\n",
       "    .dataframe tbody tr th {\n",
       "        vertical-align: top;\n",
       "    }\n",
       "\n",
       "    .dataframe thead th {\n",
       "        text-align: right;\n",
       "    }\n",
       "</style>\n",
       "<table border=\"1\" class=\"dataframe\">\n",
       "  <thead>\n",
       "    <tr style=\"text-align: right;\">\n",
       "      <th></th>\n",
       "      <th>count</th>\n",
       "      <th>mean</th>\n",
       "      <th>std</th>\n",
       "      <th>min</th>\n",
       "      <th>25%</th>\n",
       "      <th>50%</th>\n",
       "      <th>75%</th>\n",
       "      <th>max</th>\n",
       "    </tr>\n",
       "  </thead>\n",
       "  <tbody>\n",
       "    <tr>\n",
       "      <th>GENDER</th>\n",
       "      <td>309.0</td>\n",
       "      <td>0.524272</td>\n",
       "      <td>0.500221</td>\n",
       "      <td>0.0</td>\n",
       "      <td>0.0</td>\n",
       "      <td>1.0</td>\n",
       "      <td>1.0</td>\n",
       "      <td>1.0</td>\n",
       "    </tr>\n",
       "    <tr>\n",
       "      <th>AGE</th>\n",
       "      <td>309.0</td>\n",
       "      <td>62.673139</td>\n",
       "      <td>8.210301</td>\n",
       "      <td>21.0</td>\n",
       "      <td>57.0</td>\n",
       "      <td>62.0</td>\n",
       "      <td>69.0</td>\n",
       "      <td>87.0</td>\n",
       "    </tr>\n",
       "    <tr>\n",
       "      <th>SMOKING</th>\n",
       "      <td>309.0</td>\n",
       "      <td>1.563107</td>\n",
       "      <td>0.496806</td>\n",
       "      <td>1.0</td>\n",
       "      <td>1.0</td>\n",
       "      <td>2.0</td>\n",
       "      <td>2.0</td>\n",
       "      <td>2.0</td>\n",
       "    </tr>\n",
       "    <tr>\n",
       "      <th>YELLOW_FINGERS</th>\n",
       "      <td>309.0</td>\n",
       "      <td>1.569579</td>\n",
       "      <td>0.495938</td>\n",
       "      <td>1.0</td>\n",
       "      <td>1.0</td>\n",
       "      <td>2.0</td>\n",
       "      <td>2.0</td>\n",
       "      <td>2.0</td>\n",
       "    </tr>\n",
       "    <tr>\n",
       "      <th>ANXIETY</th>\n",
       "      <td>309.0</td>\n",
       "      <td>1.498382</td>\n",
       "      <td>0.500808</td>\n",
       "      <td>1.0</td>\n",
       "      <td>1.0</td>\n",
       "      <td>1.0</td>\n",
       "      <td>2.0</td>\n",
       "      <td>2.0</td>\n",
       "    </tr>\n",
       "    <tr>\n",
       "      <th>PEER_PRESSURE</th>\n",
       "      <td>309.0</td>\n",
       "      <td>1.501618</td>\n",
       "      <td>0.500808</td>\n",
       "      <td>1.0</td>\n",
       "      <td>1.0</td>\n",
       "      <td>2.0</td>\n",
       "      <td>2.0</td>\n",
       "      <td>2.0</td>\n",
       "    </tr>\n",
       "    <tr>\n",
       "      <th>CHRONIC DISEASE</th>\n",
       "      <td>309.0</td>\n",
       "      <td>1.504854</td>\n",
       "      <td>0.500787</td>\n",
       "      <td>1.0</td>\n",
       "      <td>1.0</td>\n",
       "      <td>2.0</td>\n",
       "      <td>2.0</td>\n",
       "      <td>2.0</td>\n",
       "    </tr>\n",
       "    <tr>\n",
       "      <th>FATIGUE</th>\n",
       "      <td>309.0</td>\n",
       "      <td>1.673139</td>\n",
       "      <td>0.469827</td>\n",
       "      <td>1.0</td>\n",
       "      <td>1.0</td>\n",
       "      <td>2.0</td>\n",
       "      <td>2.0</td>\n",
       "      <td>2.0</td>\n",
       "    </tr>\n",
       "    <tr>\n",
       "      <th>ALLERGY</th>\n",
       "      <td>309.0</td>\n",
       "      <td>1.556634</td>\n",
       "      <td>0.497588</td>\n",
       "      <td>1.0</td>\n",
       "      <td>1.0</td>\n",
       "      <td>2.0</td>\n",
       "      <td>2.0</td>\n",
       "      <td>2.0</td>\n",
       "    </tr>\n",
       "    <tr>\n",
       "      <th>WHEEZING</th>\n",
       "      <td>309.0</td>\n",
       "      <td>1.556634</td>\n",
       "      <td>0.497588</td>\n",
       "      <td>1.0</td>\n",
       "      <td>1.0</td>\n",
       "      <td>2.0</td>\n",
       "      <td>2.0</td>\n",
       "      <td>2.0</td>\n",
       "    </tr>\n",
       "    <tr>\n",
       "      <th>ALCOHOL CONSUMING</th>\n",
       "      <td>309.0</td>\n",
       "      <td>1.556634</td>\n",
       "      <td>0.497588</td>\n",
       "      <td>1.0</td>\n",
       "      <td>1.0</td>\n",
       "      <td>2.0</td>\n",
       "      <td>2.0</td>\n",
       "      <td>2.0</td>\n",
       "    </tr>\n",
       "    <tr>\n",
       "      <th>COUGHING</th>\n",
       "      <td>309.0</td>\n",
       "      <td>1.579288</td>\n",
       "      <td>0.494474</td>\n",
       "      <td>1.0</td>\n",
       "      <td>1.0</td>\n",
       "      <td>2.0</td>\n",
       "      <td>2.0</td>\n",
       "      <td>2.0</td>\n",
       "    </tr>\n",
       "    <tr>\n",
       "      <th>SHORTNESS OF BREATH</th>\n",
       "      <td>309.0</td>\n",
       "      <td>1.640777</td>\n",
       "      <td>0.480551</td>\n",
       "      <td>1.0</td>\n",
       "      <td>1.0</td>\n",
       "      <td>2.0</td>\n",
       "      <td>2.0</td>\n",
       "      <td>2.0</td>\n",
       "    </tr>\n",
       "    <tr>\n",
       "      <th>SWALLOWING DIFFICULTY</th>\n",
       "      <td>309.0</td>\n",
       "      <td>1.469256</td>\n",
       "      <td>0.499863</td>\n",
       "      <td>1.0</td>\n",
       "      <td>1.0</td>\n",
       "      <td>1.0</td>\n",
       "      <td>2.0</td>\n",
       "      <td>2.0</td>\n",
       "    </tr>\n",
       "    <tr>\n",
       "      <th>CHEST PAIN</th>\n",
       "      <td>309.0</td>\n",
       "      <td>1.556634</td>\n",
       "      <td>0.497588</td>\n",
       "      <td>1.0</td>\n",
       "      <td>1.0</td>\n",
       "      <td>2.0</td>\n",
       "      <td>2.0</td>\n",
       "      <td>2.0</td>\n",
       "    </tr>\n",
       "    <tr>\n",
       "      <th>LUNG_CANCER</th>\n",
       "      <td>309.0</td>\n",
       "      <td>0.873786</td>\n",
       "      <td>0.332629</td>\n",
       "      <td>0.0</td>\n",
       "      <td>1.0</td>\n",
       "      <td>1.0</td>\n",
       "      <td>1.0</td>\n",
       "      <td>1.0</td>\n",
       "    </tr>\n",
       "  </tbody>\n",
       "</table>\n",
       "</div>"
      ],
      "text/plain": [
       "                       count       mean       std   min   25%   50%   75%  \\\n",
       "GENDER                 309.0   0.524272  0.500221   0.0   0.0   1.0   1.0   \n",
       "AGE                    309.0  62.673139  8.210301  21.0  57.0  62.0  69.0   \n",
       "SMOKING                309.0   1.563107  0.496806   1.0   1.0   2.0   2.0   \n",
       "YELLOW_FINGERS         309.0   1.569579  0.495938   1.0   1.0   2.0   2.0   \n",
       "ANXIETY                309.0   1.498382  0.500808   1.0   1.0   1.0   2.0   \n",
       "PEER_PRESSURE          309.0   1.501618  0.500808   1.0   1.0   2.0   2.0   \n",
       "CHRONIC DISEASE        309.0   1.504854  0.500787   1.0   1.0   2.0   2.0   \n",
       "FATIGUE                309.0   1.673139  0.469827   1.0   1.0   2.0   2.0   \n",
       "ALLERGY                309.0   1.556634  0.497588   1.0   1.0   2.0   2.0   \n",
       "WHEEZING               309.0   1.556634  0.497588   1.0   1.0   2.0   2.0   \n",
       "ALCOHOL CONSUMING      309.0   1.556634  0.497588   1.0   1.0   2.0   2.0   \n",
       "COUGHING               309.0   1.579288  0.494474   1.0   1.0   2.0   2.0   \n",
       "SHORTNESS OF BREATH    309.0   1.640777  0.480551   1.0   1.0   2.0   2.0   \n",
       "SWALLOWING DIFFICULTY  309.0   1.469256  0.499863   1.0   1.0   1.0   2.0   \n",
       "CHEST PAIN             309.0   1.556634  0.497588   1.0   1.0   2.0   2.0   \n",
       "LUNG_CANCER            309.0   0.873786  0.332629   0.0   1.0   1.0   1.0   \n",
       "\n",
       "                        max  \n",
       "GENDER                  1.0  \n",
       "AGE                    87.0  \n",
       "SMOKING                 2.0  \n",
       "YELLOW_FINGERS          2.0  \n",
       "ANXIETY                 2.0  \n",
       "PEER_PRESSURE           2.0  \n",
       "CHRONIC DISEASE         2.0  \n",
       "FATIGUE                 2.0  \n",
       "ALLERGY                 2.0  \n",
       "WHEEZING                2.0  \n",
       "ALCOHOL CONSUMING       2.0  \n",
       "COUGHING                2.0  \n",
       "SHORTNESS OF BREATH     2.0  \n",
       "SWALLOWING DIFFICULTY   2.0  \n",
       "CHEST PAIN              2.0  \n",
       "LUNG_CANCER             1.0  "
      ]
     },
     "execution_count": 6,
     "metadata": {},
     "output_type": "execute_result"
    }
   ],
   "source": [
    "# Dataframe summary statistics\n",
    "data.describe().T"
   ]
  },
  {
   "cell_type": "code",
   "execution_count": 7,
   "id": "216e2522",
   "metadata": {
    "execution": {
     "iopub.execute_input": "2022-09-09T21:22:52.296241Z",
     "iopub.status.busy": "2022-09-09T21:22:52.295211Z",
     "iopub.status.idle": "2022-09-09T21:22:52.848479Z",
     "shell.execute_reply": "2022-09-09T21:22:52.847250Z"
    },
    "papermill": {
     "duration": 0.561897,
     "end_time": "2022-09-09T21:22:52.850816",
     "exception": false,
     "start_time": "2022-09-09T21:22:52.288919",
     "status": "completed"
    },
    "tags": []
   },
   "outputs": [
    {
     "data": {
      "text/plain": [
       "<AxesSubplot:>"
      ]
     },
     "execution_count": 7,
     "metadata": {},
     "output_type": "execute_result"
    },
    {
     "data": {
      "image/png": "[encoded data removed]",
      "text/plain": [
       "<Figure size 864x648 with 2 Axes>"
      ]
     },
     "metadata": {
      "needs_background": "light"
     },
     "output_type": "display_data"
    }
   ],
   "source": [
    "# Visualize correlation among variables\n",
    "palette = sns.color_palette(\"vlag\", as_cmap=True)\n",
    "plt.subplots(figsize =(12, 9))\n",
    "sns.heatmap(data.corr(), cmap = palette, linewidths=0.1, linecolor='white')"
   ]
  },
  {
   "cell_type": "code",
   "execution_count": 8,
   "id": "3c1efa8b",
   "metadata": {
    "execution": {
     "iopub.execute_input": "2022-09-09T21:22:52.866357Z",
     "iopub.status.busy": "2022-09-09T21:22:52.865761Z",
     "iopub.status.idle": "2022-09-09T21:22:52.878379Z",
     "shell.execute_reply": "2022-09-09T21:22:52.876981Z"
    },
    "papermill": {
     "duration": 0.023998,
     "end_time": "2022-09-09T21:22:52.880832",
     "exception": false,
     "start_time": "2022-09-09T21:22:52.856834",
     "status": "completed"
    },
    "tags": []
   },
   "outputs": [
    {
     "name": "stdout",
     "output_type": "stream",
     "text": [
      "   GENDER  AGE  SMOKING  YELLOW_FINGERS  ANXIETY  PEER_PRESSURE  \\\n",
      "0       1   69        1               2        2              1   \n",
      "1       1   74        2               1        1              1   \n",
      "2       0   59        1               1        1              2   \n",
      "3       1   63        2               2        2              1   \n",
      "4       0   63        1               2        1              1   \n",
      "\n",
      "   CHRONIC DISEASE  FATIGUE   ALLERGY   WHEEZING  ALCOHOL CONSUMING  COUGHING  \\\n",
      "0                1         2         1         2                  2         2   \n",
      "1                2         2         2         1                  1         1   \n",
      "2                1         2         1         2                  1         2   \n",
      "3                1         1         1         1                  2         1   \n",
      "4                1         1         1         2                  1         2   \n",
      "\n",
      "   SHORTNESS OF BREATH  SWALLOWING DIFFICULTY  CHEST PAIN  \n",
      "0                    2                      2           2  \n",
      "1                    2                      2           2  \n",
      "2                    2                      1           2  \n",
      "3                    1                      2           2  \n",
      "4                    2                      1           1  \n",
      "0    1\n",
      "1    1\n",
      "2    0\n",
      "3    0\n",
      "4    0\n",
      "Name: LUNG_CANCER, dtype: int64\n"
     ]
    }
   ],
   "source": [
    "# Remove outcome column and add to y variable\n",
    "x = data.drop(\"LUNG_CANCER\", axis = 1)\n",
    "y = data[\"LUNG_CANCER\"]\n",
    "print(x.head())\n",
    "print(y.head())"
   ]
  },
  {
   "cell_type": "code",
   "execution_count": 9,
   "id": "6ea4e508",
   "metadata": {
    "execution": {
     "iopub.execute_input": "2022-09-09T21:22:52.894565Z",
     "iopub.status.busy": "2022-09-09T21:22:52.894148Z",
     "iopub.status.idle": "2022-09-09T21:22:52.903336Z",
     "shell.execute_reply": "2022-09-09T21:22:52.902062Z"
    },
    "papermill": {
     "duration": 0.018848,
     "end_time": "2022-09-09T21:22:52.905808",
     "exception": false,
     "start_time": "2022-09-09T21:22:52.886960",
     "status": "completed"
    },
    "tags": []
   },
   "outputs": [
    {
     "name": "stdout",
     "output_type": "stream",
     "text": [
      "Shape of training data : (123, 15), (123,)\n",
      "Shape of testing data : (186, 15), (186,)\n"
     ]
    }
   ],
   "source": [
    "# Split train and test sets; using 60% for training\n",
    "x_train, x_test, y_train, y_test = train_test_split(x,y, test_size=0.6, random_state=42)\n",
    "\n",
    "print(f\"Shape of training data : {x_train.shape}, {y_train.shape}\")\n",
    "print(f\"Shape of testing data : {x_test.shape}, {y_test.shape}\")"
   ]
  },
  {
   "cell_type": "code",
   "execution_count": 10,
   "id": "f7ec08d5",
   "metadata": {
    "execution": {
     "iopub.execute_input": "2022-09-09T21:22:52.919563Z",
     "iopub.status.busy": "2022-09-09T21:22:52.919120Z",
     "iopub.status.idle": "2022-09-09T21:22:52.971281Z",
     "shell.execute_reply": "2022-09-09T21:22:52.969371Z"
    },
    "papermill": {
     "duration": 0.062499,
     "end_time": "2022-09-09T21:22:52.974383",
     "exception": false,
     "start_time": "2022-09-09T21:22:52.911884",
     "status": "completed"
    },
    "tags": []
   },
   "outputs": [
    {
     "name": "stdout",
     "output_type": "stream",
     "text": [
      "Kernel:linear\n",
      "Confusion Matrix : \n",
      "\n",
      "[[ 11   7]\n",
      " [  4 164]]\n",
      "\n",
      "Classification Report : \n",
      "\n",
      "              precision    recall  f1-score   support\n",
      "\n",
      "           0       0.73      0.61      0.67        18\n",
      "           1       0.96      0.98      0.97       168\n",
      "\n",
      "    accuracy                           0.94       186\n",
      "   macro avg       0.85      0.79      0.82       186\n",
      "weighted avg       0.94      0.94      0.94       186\n",
      "\n",
      "Kernel:rbf\n",
      "Confusion Matrix : \n",
      "\n",
      "[[  0  18]\n",
      " [  0 168]]\n",
      "\n",
      "Classification Report : \n",
      "\n",
      "              precision    recall  f1-score   support\n",
      "\n",
      "           0       0.00      0.00      0.00        18\n",
      "           1       0.90      1.00      0.95       168\n",
      "\n",
      "    accuracy                           0.90       186\n",
      "   macro avg       0.45      0.50      0.47       186\n",
      "weighted avg       0.82      0.90      0.86       186\n",
      "\n",
      "Kernel:poly\n",
      "Confusion Matrix : \n",
      "\n",
      "[[  0  18]\n",
      " [  0 168]]\n",
      "\n",
      "Classification Report : \n",
      "\n",
      "              precision    recall  f1-score   support\n",
      "\n",
      "           0       0.00      0.00      0.00        18\n",
      "           1       0.90      1.00      0.95       168\n",
      "\n",
      "    accuracy                           0.90       186\n",
      "   macro avg       0.45      0.50      0.47       186\n",
      "weighted avg       0.82      0.90      0.86       186\n",
      "\n"
     ]
    },
    {
     "name": "stderr",
     "output_type": "stream",
     "text": [
      "/opt/conda/lib/python3.7/site-packages/sklearn/metrics/_classification.py:1318: UndefinedMetricWarning: Precision and F-score are ill-defined and being set to 0.0 in labels with no predicted samples. Use `zero_division` parameter to control this behavior.\n",
      "  _warn_prf(average, modifier, msg_start, len(result))\n",
      "/opt/conda/lib/python3.7/site-packages/sklearn/metrics/_classification.py:1318: UndefinedMetricWarning: Precision and F-score are ill-defined and being set to 0.0 in labels with no predicted samples. Use `zero_division` parameter to control this behavior.\n",
      "  _warn_prf(average, modifier, msg_start, len(result))\n",
      "/opt/conda/lib/python3.7/site-packages/sklearn/metrics/_classification.py:1318: UndefinedMetricWarning: Precision and F-score are ill-defined and being set to 0.0 in labels with no predicted samples. Use `zero_division` parameter to control this behavior.\n",
      "  _warn_prf(average, modifier, msg_start, len(result))\n",
      "/opt/conda/lib/python3.7/site-packages/sklearn/metrics/_classification.py:1318: UndefinedMetricWarning: Precision and F-score are ill-defined and being set to 0.0 in labels with no predicted samples. Use `zero_division` parameter to control this behavior.\n",
      "  _warn_prf(average, modifier, msg_start, len(result))\n",
      "/opt/conda/lib/python3.7/site-packages/sklearn/metrics/_classification.py:1318: UndefinedMetricWarning: Precision and F-score are ill-defined and being set to 0.0 in labels with no predicted samples. Use `zero_division` parameter to control this behavior.\n",
      "  _warn_prf(average, modifier, msg_start, len(result))\n",
      "/opt/conda/lib/python3.7/site-packages/sklearn/metrics/_classification.py:1318: UndefinedMetricWarning: Precision and F-score are ill-defined and being set to 0.0 in labels with no predicted samples. Use `zero_division` parameter to control this behavior.\n",
      "  _warn_prf(average, modifier, msg_start, len(result))\n"
     ]
    }
   ],
   "source": [
    "# Test different kernels\n",
    "kernels = ['linear', 'rbf', 'poly']\n",
    "for kernel in kernels:\n",
    "  print(\"Kernel:\"+str(kernel))\n",
    "  svm = SVC(kernel=kernel).fit(x, y)\n",
    "  svm_pred = svm.predict(x_test)\n",
    "  svm_conf = confusion_matrix(y_test, svm_pred)\n",
    "  svm_report = classification_report(y_test, svm_pred)\n",
    "  print(f\"Confusion Matrix : \\n\\n{svm_conf}\")\n",
    "  print(f\"\\nClassification Report : \\n\\n{svm_report}\")"
   ]
  },
  {
   "cell_type": "code",
   "execution_count": 11,
   "id": "01b20383",
   "metadata": {
    "execution": {
     "iopub.execute_input": "2022-09-09T21:22:52.988770Z",
     "iopub.status.busy": "2022-09-09T21:22:52.988371Z",
     "iopub.status.idle": "2022-09-09T21:22:53.055693Z",
     "shell.execute_reply": "2022-09-09T21:22:53.052922Z"
    },
    "papermill": {
     "duration": 0.077637,
     "end_time": "2022-09-09T21:22:53.058403",
     "exception": false,
     "start_time": "2022-09-09T21:22:52.980766",
     "status": "completed"
    },
    "tags": []
   },
   "outputs": [
    {
     "name": "stdout",
     "output_type": "stream",
     "text": [
      "Gamma:0.001\n",
      "Confusion Matrix : \n",
      "\n",
      "[[ 11   7]\n",
      " [  4 164]]\n",
      "\n",
      "Classification Report : \n",
      "\n",
      "              precision    recall  f1-score   support\n",
      "\n",
      "           0       0.73      0.61      0.67        18\n",
      "           1       0.96      0.98      0.97       168\n",
      "\n",
      "    accuracy                           0.94       186\n",
      "   macro avg       0.85      0.79      0.82       186\n",
      "weighted avg       0.94      0.94      0.94       186\n",
      "\n",
      "Gamma:0.1\n",
      "Confusion Matrix : \n",
      "\n",
      "[[ 11   7]\n",
      " [  4 164]]\n",
      "\n",
      "Classification Report : \n",
      "\n",
      "              precision    recall  f1-score   support\n",
      "\n",
      "           0       0.73      0.61      0.67        18\n",
      "           1       0.96      0.98      0.97       168\n",
      "\n",
      "    accuracy                           0.94       186\n",
      "   macro avg       0.85      0.79      0.82       186\n",
      "weighted avg       0.94      0.94      0.94       186\n",
      "\n",
      "Gamma:1\n",
      "Confusion Matrix : \n",
      "\n",
      "[[ 11   7]\n",
      " [  4 164]]\n",
      "\n",
      "Classification Report : \n",
      "\n",
      "              precision    recall  f1-score   support\n",
      "\n",
      "           0       0.73      0.61      0.67        18\n",
      "           1       0.96      0.98      0.97       168\n",
      "\n",
      "    accuracy                           0.94       186\n",
      "   macro avg       0.85      0.79      0.82       186\n",
      "weighted avg       0.94      0.94      0.94       186\n",
      "\n",
      "Gamma:10\n",
      "Confusion Matrix : \n",
      "\n",
      "[[ 11   7]\n",
      " [  4 164]]\n",
      "\n",
      "Classification Report : \n",
      "\n",
      "              precision    recall  f1-score   support\n",
      "\n",
      "           0       0.73      0.61      0.67        18\n",
      "           1       0.96      0.98      0.97       168\n",
      "\n",
      "    accuracy                           0.94       186\n",
      "   macro avg       0.85      0.79      0.82       186\n",
      "weighted avg       0.94      0.94      0.94       186\n",
      "\n",
      "Gamma:100\n",
      "Confusion Matrix : \n",
      "\n",
      "[[ 11   7]\n",
      " [  4 164]]\n",
      "\n",
      "Classification Report : \n",
      "\n",
      "              precision    recall  f1-score   support\n",
      "\n",
      "           0       0.73      0.61      0.67        18\n",
      "           1       0.96      0.98      0.97       168\n",
      "\n",
      "    accuracy                           0.94       186\n",
      "   macro avg       0.85      0.79      0.82       186\n",
      "weighted avg       0.94      0.94      0.94       186\n",
      "\n"
     ]
    }
   ],
   "source": [
    "# Test different gamma values\n",
    "gammas = [0.001, 0.1, 1, 10, 100]\n",
    "for gamma in gammas:\n",
    "  print(\"Gamma:\"+str(gamma))\n",
    "  svm = SVC(kernel = \"linear\",gamma = gamma).fit(x, y)\n",
    "  svm_pred = svm.predict(x_test)\n",
    "  svm_conf = confusion_matrix(y_test, svm_pred)\n",
    "  svm_report = classification_report(y_test, svm_pred)\n",
    "  print(f\"Confusion Matrix : \\n\\n{svm_conf}\")\n",
    "  print(f\"\\nClassification Report : \\n\\n{svm_report}\")"
   ]
  },
  {
   "cell_type": "code",
   "execution_count": 12,
   "id": "854ce904",
   "metadata": {
    "execution": {
     "iopub.execute_input": "2022-09-09T21:22:53.072963Z",
     "iopub.status.busy": "2022-09-09T21:22:53.072542Z",
     "iopub.status.idle": "2022-09-09T21:22:55.967009Z",
     "shell.execute_reply": "2022-09-09T21:22:55.965363Z"
    },
    "papermill": {
     "duration": 2.904551,
     "end_time": "2022-09-09T21:22:55.969423",
     "exception": false,
     "start_time": "2022-09-09T21:22:53.064872",
     "status": "completed"
    },
    "tags": []
   },
   "outputs": [
    {
     "name": "stdout",
     "output_type": "stream",
     "text": [
      "C:0.1\n",
      "Confusion Matrix : \n",
      "\n",
      "[[  6  12]\n",
      " [  2 166]]\n",
      "\n",
      "Classification Report : \n",
      "\n",
      "              precision    recall  f1-score   support\n",
      "\n",
      "           0       0.75      0.33      0.46        18\n",
      "           1       0.93      0.99      0.96       168\n",
      "\n",
      "    accuracy                           0.92       186\n",
      "   macro avg       0.84      0.66      0.71       186\n",
      "weighted avg       0.91      0.92      0.91       186\n",
      "\n",
      "C:1\n",
      "Confusion Matrix : \n",
      "\n",
      "[[ 11   7]\n",
      " [  4 164]]\n",
      "\n",
      "Classification Report : \n",
      "\n",
      "              precision    recall  f1-score   support\n",
      "\n",
      "           0       0.73      0.61      0.67        18\n",
      "           1       0.96      0.98      0.97       168\n",
      "\n",
      "    accuracy                           0.94       186\n",
      "   macro avg       0.85      0.79      0.82       186\n",
      "weighted avg       0.94      0.94      0.94       186\n",
      "\n",
      "C:10\n",
      "Confusion Matrix : \n",
      "\n",
      "[[ 12   6]\n",
      " [  4 164]]\n",
      "\n",
      "Classification Report : \n",
      "\n",
      "              precision    recall  f1-score   support\n",
      "\n",
      "           0       0.75      0.67      0.71        18\n",
      "           1       0.96      0.98      0.97       168\n",
      "\n",
      "    accuracy                           0.95       186\n",
      "   macro avg       0.86      0.82      0.84       186\n",
      "weighted avg       0.94      0.95      0.94       186\n",
      "\n",
      "C:100\n",
      "Confusion Matrix : \n",
      "\n",
      "[[ 12   6]\n",
      " [  4 164]]\n",
      "\n",
      "Classification Report : \n",
      "\n",
      "              precision    recall  f1-score   support\n",
      "\n",
      "           0       0.75      0.67      0.71        18\n",
      "           1       0.96      0.98      0.97       168\n",
      "\n",
      "    accuracy                           0.95       186\n",
      "   macro avg       0.86      0.82      0.84       186\n",
      "weighted avg       0.94      0.95      0.94       186\n",
      "\n",
      "C:1000\n",
      "Confusion Matrix : \n",
      "\n",
      "[[ 12   6]\n",
      " [  4 164]]\n",
      "\n",
      "Classification Report : \n",
      "\n",
      "              precision    recall  f1-score   support\n",
      "\n",
      "           0       0.75      0.67      0.71        18\n",
      "           1       0.96      0.98      0.97       168\n",
      "\n",
      "    accuracy                           0.95       186\n",
      "   macro avg       0.86      0.82      0.84       186\n",
      "weighted avg       0.94      0.95      0.94       186\n",
      "\n"
     ]
    }
   ],
   "source": [
    "# Test different C values\n",
    "Cs = [0.1, 1, 10, 100, 1000]\n",
    "for C in Cs:\n",
    "  print(\"C:\"+str(C))\n",
    "  svm = SVC(kernel = \"linear\",gamma = 1, C = C).fit(x, y)\n",
    "  svm_pred = svm.predict(x_test)\n",
    "  svm_conf = confusion_matrix(y_test, svm_pred)\n",
    "  svm_report = classification_report(y_test, svm_pred)\n",
    "  print(f\"Confusion Matrix : \\n\\n{svm_conf}\")\n",
    "  print(f\"\\nClassification Report : \\n\\n{svm_report}\")"
   ]
  },
  {
   "cell_type": "code",
   "execution_count": 13,
   "id": "8b38d916",
   "metadata": {
    "execution": {
     "iopub.execute_input": "2022-09-09T21:22:55.985776Z",
     "iopub.status.busy": "2022-09-09T21:22:55.984617Z",
     "iopub.status.idle": "2022-09-09T21:22:56.245804Z",
     "shell.execute_reply": "2022-09-09T21:22:56.244663Z"
    },
    "papermill": {
     "duration": 0.271845,
     "end_time": "2022-09-09T21:22:56.248212",
     "exception": false,
     "start_time": "2022-09-09T21:22:55.976367",
     "status": "completed"
    },
    "tags": []
   },
   "outputs": [
    {
     "name": "stdout",
     "output_type": "stream",
     "text": [
      "['GENDER', 'AGE', 'SMOKING', 'YELLOW_FINGERS', 'ANXIETY', 'PEER_PRESSURE', 'CHRONIC DISEASE', 'FATIGUE ', 'ALLERGY ', 'WHEEZING', 'ALCOHOL CONSUMING', 'COUGHING', 'SHORTNESS OF BREATH', 'SWALLOWING DIFFICULTY', 'CHEST PAIN']\n"
     ]
    },
    {
     "data": {
      "text/plain": [
       "<AxesSubplot:>"
      ]
     },
     "execution_count": 13,
     "metadata": {},
     "output_type": "execute_result"
    },
    {
     "data": {
      "image/png": "[encoded data removed]",
      "text/plain": [
       "<Figure size 432x288 with 1 Axes>"
      ]
     },
     "metadata": {
      "needs_background": "light"
     },
     "output_type": "display_data"
    }
   ],
   "source": [
    "# Discover important features\n",
    "feature_names = list(x.columns)\n",
    "print(feature_names)\n",
    "features = np.array(feature_names)\n",
    "pd.Series(abs(svm.coef_[0]), index=features).nlargest(10).plot(kind='barh')"
   ]
  },
  {
   "cell_type": "code",
   "execution_count": 14,
   "id": "fdc05306",
   "metadata": {
    "execution": {
     "iopub.execute_input": "2022-09-09T21:22:56.265151Z",
     "iopub.status.busy": "2022-09-09T21:22:56.264691Z",
     "iopub.status.idle": "2022-09-09T21:22:56.287110Z",
     "shell.execute_reply": "2022-09-09T21:22:56.285144Z"
    },
    "papermill": {
     "duration": 0.033769,
     "end_time": "2022-09-09T21:22:56.289679",
     "exception": false,
     "start_time": "2022-09-09T21:22:56.255910",
     "status": "completed"
    },
    "tags": []
   },
   "outputs": [
    {
     "name": "stdout",
     "output_type": "stream",
     "text": [
      "Confusion Matrix : \n",
      "\n",
      "[[ 13   5]\n",
      " [ 12 156]]\n",
      "\n",
      "Classification Report : \n",
      "\n",
      "              precision    recall  f1-score   support\n",
      "\n",
      "           0       0.52      0.72      0.60        18\n",
      "           1       0.97      0.93      0.95       168\n",
      "\n",
      "    accuracy                           0.91       186\n",
      "   macro avg       0.74      0.83      0.78       186\n",
      "weighted avg       0.93      0.91      0.92       186\n",
      "\n",
      "\n",
      "The Accuracy of Support Vector Machine is 90.86 %\n"
     ]
    }
   ],
   "source": [
    "# Support Vector Machine final model\n",
    "svm = SVC(C = 10, gamma = 0.01, kernel = \"linear\")\n",
    "# Fit model\n",
    "svm.fit(x_train, y_train)\n",
    "# Make predictions\n",
    "svm_pred = svm.predict(x_test)\n",
    "# Show confusion matrix and classification accuracy\n",
    "svm_conf = confusion_matrix(y_test, svm_pred)\n",
    "svm_report = classification_report(y_test, svm_pred)\n",
    "svm_acc = round(accuracy_score(y_test, svm_pred)*100, ndigits = 2)\n",
    "print(f\"Confusion Matrix : \\n\\n{svm_conf}\")\n",
    "print(f\"\\nClassification Report : \\n\\n{svm_report}\")\n",
    "print(f\"\\nThe Accuracy of Support Vector Machine is {svm_acc} %\")"
   ]
  }
 ],
 "metadata": {
  "kernelspec": {
   "display_name": "Python 3",
   "language": "python",
   "name": "python3"
  },
  "language_info": {
   "codemirror_mode": {
    "name": "ipython",
    "version": 3
   },
   "file_extension": ".py",
   "mimetype": "text/x-python",
   "name": "python",
   "nbconvert_exporter": "python",
   "pygments_lexer": "ipython3",
   "version": "3.7.12"
  },
  "papermill": {
   "default_parameters": {},
   "duration": 25.117483,
   "end_time": "2022-09-09T21:22:59.511938",
   "environment_variables": {},
   "exception": null,
   "input_path": "__notebook__.ipynb",
   "output_path": "__notebook__.ipynb",
   "parameters": {},
   "start_time": "2022-09-09T21:22:34.394455",
   "version": "2.3.4"
  }
 },
 "nbformat": 4,
 "nbformat_minor": 5
}
